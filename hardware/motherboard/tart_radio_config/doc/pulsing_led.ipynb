{
 "cells": [
  {
   "cell_type": "markdown",
   "id": "3fdea625",
   "metadata": {},
   "source": [
    "# Polynomial approximations of functions\n",
    "\n",
    "Automate the production of polynomial approximations to functions for microcontroller work.\n",
    "\n",
    "Author. Tim Molteno (c) 2023\n",
    "\n",
    "We form an expression for the integral of the square of the error. Then symbolically come up with a better polynomial approximation by using sympy differentiation to minimize this integral."
   ]
  },
  {
   "cell_type": "code",
   "execution_count": 48,
   "id": "0dafa7f9",
   "metadata": {},
   "outputs": [],
   "source": [
    "import sympy as sp\n",
    "import numpy as np"
   ]
  },
  {
   "cell_type": "code",
   "execution_count": 64,
   "id": "0b59cf02",
   "metadata": {},
   "outputs": [
    {
     "name": "stdout",
     "output_type": "stream",
     "text": [
      "0 x_0\n",
      "1 x_1\n",
      "2 x_2\n",
      "3 x_3\n"
     ]
    }
   ],
   "source": [
    "order = 3;\n",
    "x = sp.Symbol('x', real=True)\n",
    "symbols = []\n",
    "poly = 0\n",
    "\n",
    "for o in range(0, order+1):\n",
    "    symbols.append((o, sp.Symbol(f\"x_{o}\", real=True)))\n",
    "\n",
    "for s in symbols:\n",
    "    o, p = s\n",
    "    print(o,p)\n",
    "    poly = poly + p*x**o\n",
    "\n",
    "original = sp.cos(x)"
   ]
  },
  {
   "cell_type": "code",
   "execution_count": 77,
   "id": "495a75be",
   "metadata": {},
   "outputs": [],
   "source": [
    "lower = -sp.pi/2\n",
    "upper = sp.pi/2\n",
    "eps2 = sp.Integral( (poly - original)**2, (x,lower,upper) )"
   ]
  },
  {
   "cell_type": "code",
   "execution_count": 78,
   "id": "d0f6dbda",
   "metadata": {},
   "outputs": [
    {
     "data": {
      "text/latex": [
       "$\\displaystyle \\int\\limits_{- \\frac{\\pi}{2}}^{\\frac{\\pi}{2}} \\left(x^{3} x_{3} + x^{2} x_{2} + x x_{1} + x_{0} - \\cos{\\left(x \\right)}\\right)^{2}\\, dx$"
      ],
      "text/plain": [
       "Integral((x**3*x_3 + x**2*x_2 + x*x_1 + x_0 - cos(x))**2, (x, -pi/2, pi/2))"
      ]
     },
     "execution_count": 78,
     "metadata": {},
     "output_type": "execute_result"
    }
   ],
   "source": [
    "eps2"
   ]
  },
  {
   "cell_type": "code",
   "execution_count": 79,
   "id": "6c740955",
   "metadata": {},
   "outputs": [
    {
     "data": {
      "text/latex": [
       "$\\displaystyle \\pi x_{0}^{2} + \\frac{\\pi^{3} x_{0} x_{2}}{6} - 4 x_{0} + \\frac{\\pi^{3} x_{1}^{2}}{12} + \\frac{\\pi^{5} x_{1} x_{3}}{40} + \\frac{\\pi^{5} x_{2}^{2}}{80} - 2 x_{2} \\left(-4 + \\frac{\\pi^{2}}{2}\\right) + \\frac{\\pi^{7} x_{3}^{2}}{448} + \\frac{\\pi}{2}$"
      ],
      "text/plain": [
       "pi*x_0**2 + pi**3*x_0*x_2/6 - 4*x_0 + pi**3*x_1**2/12 + pi**5*x_1*x_3/40 + pi**5*x_2**2/80 - 2*x_2*(-4 + pi**2/2) + pi**7*x_3**2/448 + pi/2"
      ]
     },
     "execution_count": 79,
     "metadata": {},
     "output_type": "execute_result"
    }
   ],
   "source": [
    "fn = sp.simplify(sp.expand(eps2, x))\n",
    "fn"
   ]
  },
  {
   "cell_type": "code",
   "execution_count": 80,
   "id": "c669d4fc",
   "metadata": {},
   "outputs": [
    {
     "data": {
      "text/plain": [
       "[Eq(2*pi*x_0 + pi**3*x_2/6 - 4, 0),\n",
       " Eq(pi**3*x_1/6 + pi**5*x_3/40, 0),\n",
       " Eq(pi**3*x_0/6 + pi**5*x_2/40 - pi**2 + 8, 0),\n",
       " Eq(pi**5*x_1/40 + pi**7*x_3/224, 0)]"
      ]
     },
     "execution_count": 80,
     "metadata": {},
     "output_type": "execute_result"
    }
   ],
   "source": [
    "eqns = [sp.Eq(sp.diff(fn, _x),0) for o, _x in symbols]\n",
    "eqns"
   ]
  },
  {
   "cell_type": "code",
   "execution_count": 81,
   "id": "88243afd",
   "metadata": {},
   "outputs": [
    {
     "data": {
      "text/plain": [
       "{x_0: (60 - 3*pi**2)/pi**3, x_1: 0, x_2: (-720 + 60*pi**2)/pi**5, x_3: 0}"
      ]
     },
     "execution_count": 81,
     "metadata": {},
     "output_type": "execute_result"
    }
   ],
   "source": [
    "soln = sp.solve(eqns)\n",
    "soln"
   ]
  },
  {
   "cell_type": "markdown",
   "id": "3ff3df35",
   "metadata": {},
   "source": [
    "## Create an approximating functin"
   ]
  },
  {
   "cell_type": "code",
   "execution_count": 82,
   "id": "0fa6bf01",
   "metadata": {},
   "outputs": [
    {
     "data": {
      "text/latex": [
       "$\\displaystyle \\frac{3 \\cdot \\left(20 x^{2} \\left(-12 + \\pi^{2}\\right) + \\pi^{2} \\cdot \\left(20 - \\pi^{2}\\right)\\right)}{\\pi^{5}}$"
      ],
      "text/plain": [
       "3*(20*x**2*(-12 + pi**2) + pi**2*(20 - pi**2))/pi**5"
      ]
     },
     "execution_count": 82,
     "metadata": {},
     "output_type": "execute_result"
    }
   ],
   "source": [
    "approx = sp.simplify(poly.subs(soln))\n",
    "approx"
   ]
  },
  {
   "cell_type": "code",
   "execution_count": 83,
   "id": "c313a3e8",
   "metadata": {},
   "outputs": [
    {
     "data": {
      "text/latex": [
       "$\\displaystyle 0.980162407440597 - 0.417697757006468 x^{2}$"
      ],
      "text/plain": [
       "0.980162407440597 - 0.417697757006468*x**2"
      ]
     },
     "execution_count": 83,
     "metadata": {},
     "output_type": "execute_result"
    }
   ],
   "source": [
    "func = sp.lambdify([x], approx, 'numpy')\n",
    "approx.evalf()"
   ]
  },
  {
   "cell_type": "code",
   "execution_count": 84,
   "id": "555072df",
   "metadata": {},
   "outputs": [
    {
     "data": {
      "image/png": "[encoded data removed]",
      "text/plain": [
       "<Figure size 640x480 with 2 Axes>"
      ]
     },
     "metadata": {},
     "output_type": "display_data"
    }
   ],
   "source": [
    "import matplotlib.pyplot as plt\n",
    "\n",
    "original_np = sp.lambdify([x], original, 'numpy')\n",
    "\n",
    "theta = np.linspace(-np.pi/2,np.pi/2, 100)\n",
    "plt.rcParams.update({\n",
    "    \"text.usetex\": True})\n",
    "\n",
    "fig, ax1 = plt.subplots()\n",
    "ax1.plot(theta, func(theta))\n",
    "ax1.plot(theta, original_np(theta))\n",
    "ax1.set_ylabel(f\"${sp.latex(original)}$\")\n",
    "\n",
    "ax2 = ax1.twinx()\n",
    "ax2.set_ylabel(f\"$\\\\left|{sp.latex(original)} - f(x) \\\\right|$\")\n",
    "ax2.plot(theta, func(theta) - original_np(theta))\n",
    "plt.title(f\"${sp.latex(original)}$\")\n",
    "plt.grid(True)"
   ]
  },
  {
   "cell_type": "code",
   "execution_count": 11,
   "id": "df9ffde9",
   "metadata": {},
   "outputs": [
    {
     "data": {
      "text/plain": [
       "'-0.00127871387501317*x**6 + 0.0415117364928635*x**4 - 0.499930919787912*x**2 + 0.999995282689844'"
      ]
     },
     "execution_count": 11,
     "metadata": {},
     "output_type": "execute_result"
    }
   ],
   "source": [
    "sp.printing.lambdarepr.lambdarepr(approx.evalf())"
   ]
  },
  {
   "cell_type": "markdown",
   "id": "3af65c95",
   "metadata": {},
   "source": [
    "## Automating this\n",
    "\n"
   ]
  },
  {
   "cell_type": "code",
   "execution_count": 41,
   "id": "3dded3b6",
   "metadata": {},
   "outputs": [],
   "source": [
    "def poly_approx(_original, _order, lower, upper):\n",
    "    x = sp.Symbol('x', real=True)\n",
    "    symbols = []\n",
    "    poly = 0\n",
    "\n",
    "    for o in range(_order+1):\n",
    "        symbols.append(sp.Symbol(f\"x_{o}\", real=True))\n",
    "\n",
    "    for i, s in enumerate(symbols):\n",
    "        poly = poly + s*x**i\n",
    "\n",
    "    eps2 = sp.Integral( (poly - _original)**2, (x,lower, upper) )\n",
    "    fn = sp.simplify(sp.expand(eps2, x))\n",
    "    eqns = [sp.Eq(sp.diff(fn, _x),0) for _x in symbols]\n",
    "    soln = sp.solve(eqns)\n",
    "    approx = sp.simplify(poly.subs(soln))\n",
    "    func = sp.lambdify([x], approx, 'numpy')\n",
    "    print(approx.evalf())\n",
    "\n",
    "    original_np = sp.lambdify([x], _original, 'numpy')\n",
    "\n",
    "    theta = np.linspace(-np.pi/2,np.pi/2, 200)\n",
    "    plt.rcParams.update({\n",
    "        \"text.usetex\": True})\n",
    "\n",
    "    fig, ax1 = plt.subplots()\n",
    "    ax1.plot(theta, func(theta), color='r')\n",
    "    ax1.plot(theta, original_np(theta), color='g')\n",
    "    ax1.set_ylabel(f\"${sp.latex(_original)}$\")\n",
    "\n",
    "    ax2 = ax1.twinx()\n",
    "    ax2.set_ylabel(f\"$\\\\left|{sp.latex(_original)} - f(x) \\\\right|$\")\n",
    "    ax2.plot(theta, func(theta) - original_np(theta), color='b')\n",
    "    plt.title(f\"Order {_order} approximation to ${sp.latex(_original)}$ over $[{sp.latex(lower)},{sp.latex(upper)}]$\")\n",
    "    plt.grid(True)\n",
    "    \n",
    "    return approx"
   ]
  },
  {
   "cell_type": "code",
   "execution_count": null,
   "id": "9374a9e7",
   "metadata": {},
   "outputs": [],
   "source": [
    "poly_approx(sp.exp(-x**2), 22, -10, 10)"
   ]
  },
  {
   "cell_type": "code",
   "execution_count": null,
   "id": "c3a729d9",
   "metadata": {},
   "outputs": [],
   "source": []
  }
 ],
 "metadata": {
  "kernelspec": {
   "display_name": "Python 3 (ipykernel)",
   "language": "python",
   "name": "python3"
  },
  "language_info": {
   "codemirror_mode": {
    "name": "ipython",
    "version": 3
   },
   "file_extension": ".py",
   "mimetype": "text/x-python",
   "name": "python",
   "nbconvert_exporter": "python",
   "pygments_lexer": "ipython3",
   "version": "3.11.5"
  }
 },
 "nbformat": 4,
 "nbformat_minor": 5
}
